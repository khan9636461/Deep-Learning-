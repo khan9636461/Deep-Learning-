{
  "nbformat": 4,
  "nbformat_minor": 0,
  "metadata": {
    "colab": {
      "provenance": []
    },
    "kernelspec": {
      "name": "python3",
      "display_name": "Python 3"
    },
    "language_info": {
      "name": "python"
    }
  },
  "cells": [
    {
      "cell_type": "code",
      "execution_count": null,
      "metadata": {
        "id": "P4HkprqThgCy"
      },
      "outputs": [],
      "source": [
        "import numpy as np\n",
        "\n",
        "# Sigmoid activation function and its derivative\n",
        "def sigmoid(z):\n",
        "    return 1 / (1 + np.exp(-z))\n",
        "\n",
        "def sigmoid_derivative(z):\n",
        "    return sigmoid(z) * (1 - sigmoid(z))\n",
        "\n",
        "# ReLU activation function and its derivative\n",
        "def relu(z):\n",
        "    return np.maximum(0, z)\n",
        "\n",
        "def relu_derivative(z):\n",
        "    return np.where(z > 0, 1, 0)"
      ]
    },
    {
      "cell_type": "code",
      "source": [
        "# Initialize the weights and biases\n",
        "def initialize_parameters(input_size, hidden_size, output_size):\n",
        "    np.random.seed(42)\n",
        "    W1 = np.random.randn(hidden_size, input_size) * 0.01  # Weights for layer 1\n",
        "    b1 = np.zeros((hidden_size, 1))                      # Biases for layer 1\n",
        "    W2 = np.random.randn(output_size, hidden_size) * 0.01 # Weights for layer 2\n",
        "    b2 = np.zeros((output_size, 1))                      # Biases for layer 2\n",
        "    return W1, b1, W2, b2"
      ],
      "metadata": {
        "id": "g4vwBO8zhhn0"
      },
      "execution_count": null,
      "outputs": []
    },
    {
      "cell_type": "code",
      "source": [
        "# Compute the loss (binary cross-entropy)\n",
        "def compute_loss(Y, A2):\n",
        "    m = Y.shape[1]\n",
        "    loss = -(1/m) * np.sum(Y * np.log(A2) + (1 - Y) * np.log(1 - A2))\n",
        "    return loss"
      ],
      "metadata": {
        "id": "s_jVypNajbDA"
      },
      "execution_count": null,
      "outputs": []
    },
    {
      "cell_type": "code",
      "source": [
        "# Backward propagation\n",
        "def backward_propagation(X, Y, Z1, A1, Z2, A2, W1, W2):\n",
        "    m = X.shape[1]\n",
        "\n",
        "    # Gradients for the output layer\n",
        "    dZ2 = A2 - Y\n",
        "    dW2 = (1/m) * np.dot(dZ2, A1.T)\n",
        "    db2 = (1/m) * np.sum(dZ2, axis=1, keepdims=True)\n",
        "\n",
        "    # Gradients for the hidden layer\n",
        "    dA1 = np.dot(W2.T, dZ2)\n",
        "    dZ1 = dA1 * relu_derivative(Z1)\n",
        "    dW1 = (1/m) * np.dot(dZ1, X.T)\n",
        "    db1 = (1/m) * np.sum(dZ1, axis=1, keepdims=True)\n",
        "\n",
        "    return dW1, db1, dW2, db2"
      ],
      "metadata": {
        "id": "gE8T1PA0je9q"
      },
      "execution_count": null,
      "outputs": []
    },
    {
      "cell_type": "code",
      "source": [
        "# Update the parameters using gradient descent\n",
        "def update_parameters(W1, b1, W2, b2, dW1, db1, dW2, db2, learning_rate):\n",
        "    W1 -= learning_rate * dW1\n",
        "    b1 -= learning_rate * db1\n",
        "    W2 -= learning_rate * dW2\n",
        "    b2 -= learning_rate * db2\n",
        "    return W1, b1, W2, b2"
      ],
      "metadata": {
        "id": "FtqM01cRjjia"
      },
      "execution_count": null,
      "outputs": []
    },
    {
      "cell_type": "code",
      "source": [
        "# Neural network model\n",
        "def neural_network(X, Y, hidden_size, learning_rate, epochs):\n",
        "    input_size = X.shape[0]\n",
        "    output_size = 1  # Binary classification\n",
        "\n",
        "    # Initialize parameters\n",
        "    W1, b1, W2, b2 = initialize_parameters(input_size, hidden_size, output_size)\n",
        "\n",
        "    for epoch in range(epochs):\n",
        "        # Forward propagation\n",
        "        Z1, A1, Z2, A2 = forward_propagation(X, W1, b1, W2, b2)\n",
        "\n",
        "        # Compute the loss\n",
        "        loss = compute_loss(Y, A2)\n",
        "\n",
        "        # Backward propagation\n",
        "        dW1, db1, dW2, db2 = backward_propagation(X, Y, Z1, A1, Z2, A2, W1, W2)\n",
        "\n",
        "        # Update parameters\n",
        "        W1, b1, W2, b2 = update_parameters(W1, b1, W2, b2, dW1, db1, dW2, db2, learning_rate)\n",
        "\n",
        "        # Print the loss every 100 epochs\n",
        "        if epoch % 100 == 0:\n",
        "            print(f\"Epoch {epoch}, Loss: {loss:.4f}\")\n",
        "\n",
        "    return W1, b1, W2, b2"
      ],
      "metadata": {
        "id": "YS70-YXyjw0j"
      },
      "execution_count": null,
      "outputs": []
    },
    {
      "cell_type": "code",
      "source": [
        "# Make predictions\n",
        "def predict(X, W1, b1, W2, b2):\n",
        "    _, _, _, A2 = forward_propagation(X, W1, b1, W2, b2)\n",
        "    predictions = (A2 > 0.5).astype(int)\n",
        "    return predictions"
      ],
      "metadata": {
        "id": "McLH6HVAj7LZ"
      },
      "execution_count": null,
      "outputs": []
    },
    {
      "cell_type": "code",
      "source": [
        "if __name__ == \"__main__\":\n",
        "    # Generate synthetic data\n",
        "    np.random.seed(42)\n",
        "    X = np.random.rand(10, 500)  # 10 features, 500 samples\n",
        "    Y = (np.sum(X, axis=0, keepdims=True) > 5).astype(int)  # Binary labels\n",
        "\n",
        "    # Train the neural network\n",
        "    hidden_size = 16\n",
        "    learning_rate = 0.01\n",
        "    epochs = 1000\n",
        "    W1, b1, W2, b2 = neural_network(X, Y, hidden_size, learning_rate, epochs)\n",
        "\n",
        "\n",
        "    predictions = predict(X, W1, b1, W2, b2)\n",
        "    accuracy = np.mean(predictions == Y)\n",
        "    print(f\"Accuracy: {accuracy:.4f}\")"
      ],
      "metadata": {
        "colab": {
          "base_uri": "https://localhost:8080/"
        },
        "id": "iPTqEyt5j_VH",
        "outputId": "aee8ba7b-5112-46b2-edb9-b3ec60ab4a0d"
      },
      "execution_count": null,
      "outputs": [
        {
          "output_type": "stream",
          "name": "stdout",
          "text": [
            "Epoch 0, Loss: 0.6932\n",
            "Epoch 100, Loss: 0.6931\n",
            "Epoch 200, Loss: 0.6931\n",
            "Epoch 300, Loss: 0.6930\n",
            "Epoch 400, Loss: 0.6930\n",
            "Epoch 500, Loss: 0.6930\n",
            "Epoch 600, Loss: 0.6930\n",
            "Epoch 700, Loss: 0.6930\n",
            "Epoch 800, Loss: 0.6930\n",
            "Epoch 900, Loss: 0.6930\n",
            "Accuracy: 0.5080\n"
          ]
        }
      ]
    },
    {
      "cell_type": "code",
      "source": [],
      "metadata": {
        "id": "15ApqcJ7kILt"
      },
      "execution_count": null,
      "outputs": []
    }
  ]
}